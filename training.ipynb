{
 "cells": [
  {
   "cell_type": "code",
   "execution_count": 3,
   "metadata": {},
   "outputs": [],
   "source": [
    "import torch\n",
    "from torch import Tensor, nn, optim\n",
    "import torch.nn.functional as F\n",
    "import torchvision.transforms as T\n",
    "from torchvision import datasets\n",
    "\n",
    "from einops import rearrange\n",
    "\n",
    "from torch.utils.data import DataLoader, Dataset, random_split\n",
    "\n",
    "import matplotlib.pyplot as plt\n",
    "import numpy as np\n",
    "\n",
    "from tqdm.auto import tqdm\n",
    "\n",
    "from torchmetrics import Accuracy, F1Score"
   ]
  },
  {
   "cell_type": "code",
   "execution_count": 28,
   "metadata": {},
   "outputs": [],
   "source": [
    "DEVICE = torch.device('cuda') if torch.cuda.is_available() else torch.device('cpu')"
   ]
  },
  {
   "cell_type": "code",
   "execution_count": 29,
   "metadata": {},
   "outputs": [],
   "source": [
    "transform = T.Compose([\n",
    "  T.ToTensor(),\n",
    "  T.Normalize((0.5,), (0.5,)),\n",
    "  T.RandomHorizontalFlip(),\n",
    "])\n",
    "\n",
    "train_dataset = datasets.FashionMNIST(\n",
    "  root='./data',\n",
    "  train=True,\n",
    "  transform=transform,\n",
    "  download=True,\n",
    ")\n",
    "\n",
    "test_dataset = datasets.FashionMNIST(\n",
    "  root='./data',\n",
    "  train=False,\n",
    "  transform=transform,\n",
    "  download=False,\n",
    ")\n",
    "\n",
    "# Crear dataloaders para iterar sobre los datasets\n",
    "train_loader = DataLoader(train_dataset, batch_size=8, shuffle=True, drop_last=True)\n",
    "test_loader = DataLoader(test_dataset, batch_size=8, shuffle=False)"
   ]
  },
  {
   "cell_type": "code",
   "execution_count": 30,
   "metadata": {},
   "outputs": [
    {
     "data": {
      "text/plain": [
       "(torch.Size([8, 1, 28, 28]), torch.Size([8]))"
      ]
     },
     "execution_count": 30,
     "metadata": {},
     "output_type": "execute_result"
    }
   ],
   "source": [
    "images, labels = next(iter(train_loader))\n",
    "images.shape, labels.shape"
   ]
  },
  {
   "cell_type": "code",
   "execution_count": 31,
   "metadata": {},
   "outputs": [],
   "source": [
    "from m_down import DownBlock\n",
    "from m_conv import Convolutional\n",
    "from m_swing import SwinTransformer\n",
    "from m_poolattention import PoolAttention"
   ]
  },
  {
   "cell_type": "code",
   "execution_count": 33,
   "metadata": {},
   "outputs": [],
   "source": [
    "class Model(nn.Module):\n",
    "  def __init__(self):\n",
    "    super().__init__()\n",
    "    self.conv = Convolutional(1, 64)\n",
    "    self.vit1 = SwinTransformer(14, 64, 4, 4)\n",
    "    self.down1 = DownBlock(64, 128)\n",
    "    self.vit2 = SwinTransformer(7, 128, 4, 4)\n",
    "    self.down2 = DownBlock(128, 256)\n",
    "    self.pool = PoolAttention(256, False)\n",
    "    self.output = nn.Linear(256, 10)\n",
    "\n",
    "  def forward(self, x:Tensor) -> Tensor:\n",
    "    x = self.conv(x)\n",
    "    x = self.vit1(x.moveaxis(1, -1))\n",
    "    x = self.down1(x.moveaxis(-1, 1))\n",
    "    x = self.vit2(x.moveaxis(1, -1))\n",
    "    x = self.down2(x.moveaxis(-1, 1))\n",
    "\n",
    "    x = rearrange(x, 'b c h w -> b (h w) c')\n",
    "\n",
    "    x = self.pool(x)\n",
    "    x = self.output(F.silu(x))\n",
    "    return x\n",
    "\n",
    "model = Model().to(DEVICE)"
   ]
  },
  {
   "cell_type": "code",
   "execution_count": 34,
   "metadata": {},
   "outputs": [],
   "source": [
    "optimizer = optim.AdamW(model.parameters(), 1e-4, weight_decay=1e-8)\n",
    "loss_fn = nn.CrossEntropyLoss()\n",
    "accuracy_metric = Accuracy(num_classes=10, average='weighted', task='multiclass')\n",
    "f1_metric = F1Score(num_classes=10, average='weighted', task='multiclass')"
   ]
  },
  {
   "cell_type": "code",
   "execution_count": 35,
   "metadata": {},
   "outputs": [],
   "source": [
    "def train(model:nn.Module, epoch:int):\n",
    "  model.train()\n",
    "  total_loss = 0\n",
    "  total = 0\n",
    "  accuracy_metric.reset()\n",
    "  f1_metric.reset()\n",
    "\n",
    "  bar = tqdm(total=len(train_loader), desc=f'Train ({epoch}/10)', leave=True, colour='blue')\n",
    "  for images, labels in train_loader:\n",
    "    images = images.to(DEVICE)\n",
    "    labels = labels.to(DEVICE)\n",
    "\n",
    "    logits = model(images)\n",
    "    loss:Tensor = loss_fn(logits, labels)\n",
    "\n",
    "    optimizer.zero_grad()\n",
    "    loss.backward()\n",
    "    optimizer.step()\n",
    "\n",
    "    total += images.shape[0]\n",
    "    total_loss += loss.item() * images.shape[0]\n",
    "    preds = torch.argmax(logits, dim=1)\n",
    "    accuracy_metric.update(preds, labels)\n",
    "    f1_metric.update(preds, labels)\n",
    "\n",
    "    bar.set_postfix(loss = loss.item())\n",
    "    bar.update(1)\n",
    "\n",
    "  total_loss /= total\n",
    "  total_accuracy = accuracy_metric.compute().item()\n",
    "  total_f1 = f1_metric.compute().item()\n",
    "\n",
    "  bar.set_postfix(loss=total_loss, accuracy=total_accuracy, f1=total_f1)\n",
    "\n",
    "  bar.update()\n",
    "  bar.close()"
   ]
  },
  {
   "cell_type": "code",
   "execution_count": 37,
   "metadata": {},
   "outputs": [],
   "source": [
    "def test(model:nn.Module, epoch:int):\n",
    "  model.eval()\n",
    "  total_loss = 0\n",
    "  total = 0\n",
    "  accuracy_metric.reset()\n",
    "  f1_metric.reset()\n",
    "\n",
    "  bar = tqdm(total=len(train_loader), desc=f'Test ({epoch}/10)', leave=True, colour='yellow')\n",
    "  with torch.inference_mode():\n",
    "    for images, labels in test_loader:\n",
    "      images = images.to(DEVICE)\n",
    "      labels = labels.to(DEVICE)\n",
    "\n",
    "      logits = model(images)\n",
    "      loss:Tensor = loss_fn(logits, labels)\n",
    "\n",
    "      total += images.shape[0]\n",
    "      total_loss += loss.item() * images.shape[0]\n",
    "      preds = torch.argmax(logits, dim=1)\n",
    "      accuracy_metric.update(preds, labels)\n",
    "      f1_metric.update(preds, labels)\n",
    "\n",
    "      bar.set_postfix(loss = loss.item())\n",
    "      bar.update(1)\n",
    "\n",
    "  total_loss /= total\n",
    "  total_accuracy = accuracy_metric.compute().item()\n",
    "  total_f1 = f1_metric.compute().item()\n",
    "\n",
    "  bar.set_postfix(loss=total_loss, accuracy=total_accuracy, f1=total_f1)\n",
    "\n",
    "  bar.update()\n",
    "  bar.close()"
   ]
  },
  {
   "cell_type": "code",
   "execution_count": null,
   "metadata": {},
   "outputs": [],
   "source": [
    "for epoch in range(10):\n",
    "  train(model, epoch+1)\n",
    "  test(model, epoch+1)\n"
   ]
  }
 ],
 "metadata": {
  "kernelspec": {
   "display_name": "Python 3",
   "language": "python",
   "name": "python3"
  },
  "language_info": {
   "codemirror_mode": {
    "name": "ipython",
    "version": 3
   },
   "file_extension": ".py",
   "mimetype": "text/x-python",
   "name": "python",
   "nbconvert_exporter": "python",
   "pygments_lexer": "ipython3",
   "version": "3.12.7"
  }
 },
 "nbformat": 4,
 "nbformat_minor": 2
}
